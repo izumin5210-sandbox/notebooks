{
 "cells": [
  {
   "cell_type": "markdown",
   "metadata": {},
   "source": [
    "# Check Digit of MyNumber"
   ]
  },
  {
   "cell_type": "markdown",
   "metadata": {
    "collapsed": true
   },
   "source": [
    "## How to calculate the check digit of mynumber\n",
    "\n",
    "\\begin{align*}\n",
    "d &= 11 - \\Biggl( \\sum^{11}_{n=1} P_n \\times Q_n \\Biggr) \\bmod 11 \\\\\n",
    " & \\text{ただし，$\\Biggl( \\sum^{11}_{n=1} P_n \\times Q_n \\Biggr) \\bmod 11 \\leq 1$の場合は0} \\\\\n",
    "P_n &= \\text{ 個人番号を構成する検査用数字以外の十一桁の番号の最下位の桁を1桁目としたときの$n$桁目の数字} \\\\\n",
    "Q_n &=\n",
    "    \\begin{cases}\n",
    "        n + 1  && \\text{if $1 \\leq n \\leq 6$} \\\\\n",
    "        n - 5  && \\text{if $7 \\leq n \\leq 11$}\n",
    "    \\end{cases}\n",
    "\\end{align*}\n",
    "\n",
    "from: [総務省令第八十五号 行政手続における特定の個人を識別するための番号の利用等に関する法律](http://www.soumu.go.jp/main_content/000327387.pdf)"
   ]
  },
  {
   "cell_type": "markdown",
   "metadata": {},
   "source": [
    "## Naive Implementation"
   ]
  },
  {
   "cell_type": "code",
   "execution_count": 1,
   "metadata": {
    "collapsed": false
   },
   "outputs": [],
   "source": [
    "class MynumberValidator\n",
    "  def validate(num)\n",
    "    d = num.to_s.chars.reverse.map(&:to_i)\n",
    "    \n",
    "    return false if d.size != 12\n",
    "\n",
    "    cd = d.shift\n",
    "    \n",
    "    sum = 0\n",
    "    \n",
    "    (1..11).each do |i|\n",
    "      sum += d[i-1] * (i <= 6 ? i + 1 : i - 5)\n",
    "    end\n",
    "    \n",
    "    sum %= 11\n",
    "    \n",
    "    cd == (sum <= 1 ? 0 : 11 - sum)\n",
    "  end\n",
    "end\n",
    "\n",
    "\n",
    "require 'test/unit'\n",
    "extend Test::Unit::Assertions\n",
    "\n",
    "validator = MynumberValidator.new\n",
    "\n",
    "assert_equal validator.validate(12345678901),     false\n",
    "assert_equal validator.validate(123456789012),    false\n",
    "assert_equal validator.validate(123456789018),    true\n",
    "assert_equal validator.validate(123456789001),    false\n",
    "assert_equal validator.validate(123456789000),    true\n",
    "assert_equal validator.validate(\"123456789012\"),  false\n",
    "assert_equal validator.validate(\"023456789013\"),  true"
   ]
  },
  {
   "cell_type": "markdown",
   "metadata": {},
   "source": [
    "## Ruby-ish Implementation"
   ]
  },
  {
   "cell_type": "code",
   "execution_count": 2,
   "metadata": {
    "collapsed": false,
    "scrolled": true
   },
   "outputs": [],
   "source": [
    "class MynumberValidator\n",
    "  def validate(num)\n",
    "    d = num.to_s.chars.map(&:to_i)\n",
    "    return false if d.size != 12\n",
    "    cd = d.pop\n",
    "    sum = d.reverse.map.with_index(1) { |n, i| n * (i <= 6 ? i+1 : i-5) }.inject(0, :+) % 11\n",
    "    cd == (sum <= 1 ? 0 : 11 - sum)\n",
    "  end\n",
    "end\n",
    "\n",
    "\n",
    "require 'test/unit'\n",
    "extend Test::Unit::Assertions\n",
    "\n",
    "validator = MynumberValidator.new\n",
    "\n",
    "assert_equal validator.validate(12345678901),     false\n",
    "assert_equal validator.validate(123456789012),    false\n",
    "assert_equal validator.validate(123456789018),    true\n",
    "assert_equal validator.validate(123456789001),    false\n",
    "assert_equal validator.validate(123456789000),    true\n",
    "assert_equal validator.validate(\"123456789012\"),  false\n",
    "assert_equal validator.validate(\"023456789013\"),  true"
   ]
  },
  {
   "cell_type": "markdown",
   "metadata": {},
   "source": [
    "## More Short Implementation"
   ]
  },
  {
   "cell_type": "markdown",
   "metadata": {},
   "source": [
    "## Unit test with RSpec\n",
    "\n",
    "```ruby\n",
    "RSpec.describe MynumberValidator do\n",
    "  let(:validator) { MynumberValidator.new }\n",
    "  \n",
    "  RSpec.describe '#validate_mynumber' do\n",
    "    subject { validator.validate(num) }\n",
    "  \n",
    "    context 'pass the number that has invalid length ' do\n",
    "      let(:num) { 12345678901 }\n",
    "      it { is_expected.to be false }\n",
    "    end\n",
    "  \n",
    "    context 'pass the invalid number' do\n",
    "      let(:num) { 123456789012 }\n",
    "      it { is_expected.to be false }\n",
    "    end\n",
    "  \n",
    "    context 'pass the valid number' do\n",
    "      let(:num) { 123456789018 }\n",
    "      it { is_expected.to be true }\n",
    "    end\n",
    "  \n",
    "    context 'pass the invalid number that calculated digit is bigger' do\n",
    "      let(:num) { 123456789001 }\n",
    "      it { is_expected.to be false }\n",
    "    end\n",
    "  \n",
    "    context 'pass the valid number that calculated digit is bigger' do\n",
    "      let(:num) { 123456789000 }\n",
    "      it { is_expected.to be true }\n",
    "    end\n",
    "  \n",
    "    context 'pass the invalid number as string' do\n",
    "      let(:num) { '123456789012' }\n",
    "      it { is_expected.to be false }\n",
    "    end\n",
    "  \n",
    "    context 'pass the valid number starts with 0' do\n",
    "      let(:num) { '023456789013' }\n",
    "      it { is_expected.to be true }\n",
    "    end\n",
    "  end\n",
    "end\n",
    "```"
   ]
  },
  {
   "cell_type": "code",
   "execution_count": 3,
   "metadata": {
    "collapsed": false
   },
   "outputs": [],
   "source": [
    "class MynumberValidator\n",
    "  def validate(num)\n",
    "    d=num.to_s.chars.map(&:to_i)\n",
    "    d.size==12&&d.pop==(11-d.reverse.zip((2..7).cycle).inject(0){|s,(n,m)|s+n*m}%11).tap{|cd| break 0 if cd>9}\n",
    "  end\n",
    "end\n",
    "\n",
    "\n",
    "require 'test/unit'\n",
    "extend Test::Unit::Assertions\n",
    "\n",
    "validator = MynumberValidator.new\n",
    "\n",
    "assert_equal validator.validate(12345678901),     false\n",
    "assert_equal validator.validate(123456789012),    false\n",
    "assert_equal validator.validate(123456789018),    true\n",
    "assert_equal validator.validate(123456789001),    false\n",
    "assert_equal validator.validate(123456789000),    true\n",
    "assert_equal validator.validate(\"123456789012\"),  false\n",
    "assert_equal validator.validate(\"023456789013\"),  true"
   ]
  },
  {
   "cell_type": "code",
   "execution_count": null,
   "metadata": {
    "collapsed": true
   },
   "outputs": [],
   "source": []
  }
 ],
 "metadata": {
  "kernelspec": {
   "display_name": "Ruby 2.2.3",
   "language": "ruby",
   "name": "ruby"
  },
  "language_info": {
   "file_extension": ".rb",
   "mimetype": "application/x-ruby",
   "name": "ruby",
   "version": "2.2.3"
  }
 },
 "nbformat": 4,
 "nbformat_minor": 0
}
